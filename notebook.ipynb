{
  "nbformat": 4,
  "nbformat_minor": 0,
  "metadata": {
    "colab": {
      "name": "notebook.ipynb",
      "provenance": [],
      "collapsed_sections": [],
      "toc_visible": true,
      "authorship_tag": "ABX9TyPs2jKEt+Wan1br96ik/2o3",
      "include_colab_link": true
    },
    "kernelspec": {
      "name": "python3",
      "display_name": "Python 3"
    },
    "accelerator": "GPU"
  },
  "cells": [
    {
      "cell_type": "markdown",
      "metadata": {
        "id": "view-in-github",
        "colab_type": "text"
      },
      "source": [
        "<a href=\"https://colab.research.google.com/github/TahjidEshan/pytorch-LiLaNet/blob/master/notebook.ipynb\" target=\"_parent\"><img src=\"https://colab.research.google.com/assets/colab-badge.svg\" alt=\"Open In Colab\"/></a>"
      ]
    },
    {
      "cell_type": "markdown",
      "metadata": {
        "id": "ANlr2na77tuL",
        "colab_type": "text"
      },
      "source": [
        "#Initial Setup\n"
      ]
    },
    {
      "cell_type": "code",
      "metadata": {
        "id": "cF0i354m4x1q",
        "colab_type": "code",
        "outputId": "a3546d6a-9223-4515-d3c9-fcdea9c6d086",
        "colab": {
          "base_uri": "https://localhost:8080/",
          "height": 141
        }
      },
      "source": [
        "from google.colab import drive\n",
        "ROOT = '/content/gdrive'   \n",
        "print(ROOT)   \n",
        "drive.mount('/content/gdrive')"
      ],
      "execution_count": 1,
      "outputs": [
        {
          "output_type": "stream",
          "text": [
            "/content/gdrive\n",
            "Go to this URL in a browser: https://accounts.google.com/o/oauth2/auth?client_id=947318989803-6bn6qk8qdgf4n4g3pfee6491hc0brc4i.apps.googleusercontent.com&redirect_uri=urn%3aietf%3awg%3aoauth%3a2.0%3aoob&response_type=code&scope=email%20https%3a%2f%2fwww.googleapis.com%2fauth%2fdocs.test%20https%3a%2f%2fwww.googleapis.com%2fauth%2fdrive%20https%3a%2f%2fwww.googleapis.com%2fauth%2fdrive.photos.readonly%20https%3a%2f%2fwww.googleapis.com%2fauth%2fpeopleapi.readonly\n",
            "\n",
            "Enter your authorization code:\n",
            "··········\n",
            "Mounted at /content/gdrive\n"
          ],
          "name": "stdout"
        }
      ]
    },
    {
      "cell_type": "code",
      "metadata": {
        "id": "xSQ1tb7-3--6",
        "colab_type": "code",
        "outputId": "0330f6db-109b-486e-c6ba-f467d0e7e80c",
        "colab": {
          "base_uri": "https://localhost:8080/",
          "height": 89
        }
      },
      "source": [
        "from os.path import join  \n",
        "MY_GOOGLE_DRIVE_PATH = '/content/gdrive/My Drive/Colab Notebooks/' \n",
        "GIT_USERNAME = \"TahjidEshan\" \n",
        "GIT_TOKEN = \"f3d1c0a4bf803fecbcafd89aed5d585660fa1af4\"  \n",
        "GIT_REPOSITORY = \"pytorch-LiLaNet\" \n",
        "!git config --global user.email \"atahjid@gmail.com\"\n",
        "!git config --global user.name \"TahjidEshan\"\n",
        "PROJECT_PATH = join(ROOT, MY_GOOGLE_DRIVE_PATH)\n",
        "\n",
        "print(\"PROJECT_PATH: \", PROJECT_PATH)   \n",
        "\n",
        "!mkdir \"{PROJECT_PATH}\"    \n",
        "\n",
        "GIT_PATH = \"https://\" + GIT_TOKEN + \"@github.com/\" + GIT_USERNAME + \"/\" + GIT_REPOSITORY + \".git\"\n",
        "print(\"GIT_PATH: \", GIT_PATH)"
      ],
      "execution_count": 2,
      "outputs": [
        {
          "output_type": "stream",
          "text": [
            "PROJECT_PATH:  /content/gdrive/My Drive/Colab Notebooks/\n",
            "mkdir: cannot create directory ‘/content/gdrive/My Drive/Colab Notebooks/’: File exists\n",
            "GIT_PATH:  https://f3d1c0a4bf803fecbcafd89aed5d585660fa1af4@github.com/TahjidEshan/pytorch-LiLaNet.git\n"
          ],
          "name": "stdout"
        }
      ]
    },
    {
      "cell_type": "code",
      "metadata": {
        "id": "STEKvi3u585i",
        "colab_type": "code",
        "outputId": "e1dfdb1b-add0-4e5c-8116-2476fdae7d05",
        "colab": {
          "base_uri": "https://localhost:8080/",
          "height": 156
        }
      },
      "source": [
        "%cd \"{PROJECT_PATH}\"    \n",
        "!git clone \"{GIT_PATH}\" "
      ],
      "execution_count": 0,
      "outputs": [
        {
          "output_type": "stream",
          "text": [
            "/content/gdrive/My Drive/Colab Notebooks\n",
            "Cloning into 'pytorch-LiLaNet'...\n",
            "remote: Enumerating objects: 207, done.\u001b[K\n",
            "remote: Counting objects: 100% (207/207), done.\u001b[K\n",
            "remote: Compressing objects: 100% (140/140), done.\u001b[K\n",
            "remote: Total 207 (delta 109), reused 159 (delta 61), pack-reused 0\u001b[K\n",
            "Receiving objects: 100% (207/207), 63.27 KiB | 4.87 MiB/s, done.\n",
            "Resolving deltas: 100% (109/109), done.\n"
          ],
          "name": "stdout"
        }
      ]
    },
    {
      "cell_type": "code",
      "metadata": {
        "id": "y_X2VSH97xi_",
        "colab_type": "code",
        "outputId": "e72ffec6-8a98-445b-fe6a-6f1baeea5aff",
        "colab": {
          "base_uri": "https://localhost:8080/",
          "height": 454
        }
      },
      "source": [
        "!pip install -r /content/gdrive/'My Drive'/'Colab Notebooks'/pytorch-LiLaNet/requirements.txt"
      ],
      "execution_count": 3,
      "outputs": [
        {
          "output_type": "stream",
          "text": [
            "Collecting pykitti\n",
            "  Downloading https://files.pythonhosted.org/packages/c3/7e/e2b71b9221ccb8503dce9673e3cb36edcdc314ec374f9e69e6d38ed1abde/pykitti-0.3.1-py2.py3-none-any.whl\n",
            "Requirement already satisfied: Pillow in /usr/local/lib/python3.6/dist-packages (from -r /content/gdrive/My Drive/Colab Notebooks/pytorch-LiLaNet/requirements.txt (line 2)) (6.2.2)\n",
            "Requirement already satisfied: numpy in /usr/local/lib/python3.6/dist-packages (from -r /content/gdrive/My Drive/Colab Notebooks/pytorch-LiLaNet/requirements.txt (line 3)) (1.17.5)\n",
            "Collecting tensorboardX\n",
            "\u001b[?25l  Downloading https://files.pythonhosted.org/packages/35/f1/5843425495765c8c2dd0784a851a93ef204d314fc87bcc2bbb9f662a3ad1/tensorboardX-2.0-py2.py3-none-any.whl (195kB)\n",
            "\u001b[K     |████████████████████████████████| 204kB 4.3MB/s \n",
            "\u001b[?25hRequirement already satisfied: torch in /usr/local/lib/python3.6/dist-packages (from -r /content/gdrive/My Drive/Colab Notebooks/pytorch-LiLaNet/requirements.txt (line 5)) (1.4.0)\n",
            "Requirement already satisfied: torchvision in /usr/local/lib/python3.6/dist-packages (from -r /content/gdrive/My Drive/Colab Notebooks/pytorch-LiLaNet/requirements.txt (line 6)) (0.5.0)\n",
            "Collecting pytorch-ignite\n",
            "\u001b[?25l  Downloading https://files.pythonhosted.org/packages/35/55/41e8a995876fd2ade29bdba0c3efefa38e7d605cb353c70f3173c04928b5/pytorch_ignite-0.3.0-py2.py3-none-any.whl (103kB)\n",
            "\u001b[K     |████████████████████████████████| 112kB 19.4MB/s \n",
            "\u001b[?25hRequirement already satisfied: pandas in /usr/local/lib/python3.6/dist-packages (from pykitti->-r /content/gdrive/My Drive/Colab Notebooks/pytorch-LiLaNet/requirements.txt (line 1)) (0.25.3)\n",
            "Requirement already satisfied: matplotlib in /usr/local/lib/python3.6/dist-packages (from pykitti->-r /content/gdrive/My Drive/Colab Notebooks/pytorch-LiLaNet/requirements.txt (line 1)) (3.1.3)\n",
            "Requirement already satisfied: protobuf>=3.8.0 in /usr/local/lib/python3.6/dist-packages (from tensorboardX->-r /content/gdrive/My Drive/Colab Notebooks/pytorch-LiLaNet/requirements.txt (line 4)) (3.10.0)\n",
            "Requirement already satisfied: six in /usr/local/lib/python3.6/dist-packages (from tensorboardX->-r /content/gdrive/My Drive/Colab Notebooks/pytorch-LiLaNet/requirements.txt (line 4)) (1.12.0)\n",
            "Requirement already satisfied: pytz>=2017.2 in /usr/local/lib/python3.6/dist-packages (from pandas->pykitti->-r /content/gdrive/My Drive/Colab Notebooks/pytorch-LiLaNet/requirements.txt (line 1)) (2018.9)\n",
            "Requirement already satisfied: python-dateutil>=2.6.1 in /usr/local/lib/python3.6/dist-packages (from pandas->pykitti->-r /content/gdrive/My Drive/Colab Notebooks/pytorch-LiLaNet/requirements.txt (line 1)) (2.6.1)\n",
            "Requirement already satisfied: pyparsing!=2.0.4,!=2.1.2,!=2.1.6,>=2.0.1 in /usr/local/lib/python3.6/dist-packages (from matplotlib->pykitti->-r /content/gdrive/My Drive/Colab Notebooks/pytorch-LiLaNet/requirements.txt (line 1)) (2.4.6)\n",
            "Requirement already satisfied: kiwisolver>=1.0.1 in /usr/local/lib/python3.6/dist-packages (from matplotlib->pykitti->-r /content/gdrive/My Drive/Colab Notebooks/pytorch-LiLaNet/requirements.txt (line 1)) (1.1.0)\n",
            "Requirement already satisfied: cycler>=0.10 in /usr/local/lib/python3.6/dist-packages (from matplotlib->pykitti->-r /content/gdrive/My Drive/Colab Notebooks/pytorch-LiLaNet/requirements.txt (line 1)) (0.10.0)\n",
            "Requirement already satisfied: setuptools in /usr/local/lib/python3.6/dist-packages (from protobuf>=3.8.0->tensorboardX->-r /content/gdrive/My Drive/Colab Notebooks/pytorch-LiLaNet/requirements.txt (line 4)) (45.1.0)\n",
            "Installing collected packages: pykitti, tensorboardX, pytorch-ignite\n",
            "Successfully installed pykitti-0.3.1 pytorch-ignite-0.3.0 tensorboardX-2.0\n"
          ],
          "name": "stdout"
        }
      ]
    },
    {
      "cell_type": "markdown",
      "metadata": {
        "id": "4W9mK61R-cS0",
        "colab_type": "text"
      },
      "source": [
        "#Saving changes to github"
      ]
    },
    {
      "cell_type": "code",
      "metadata": {
        "id": "GKGlHHRa8cFK",
        "colab_type": "code",
        "outputId": "7a69bb82-dd69-49dc-d54b-04a8d94368e7",
        "colab": {
          "base_uri": "https://localhost:8080/",
          "height": 124
        }
      },
      "source": [
        "from datetime import datetime\n",
        "now = datetime. now()\n",
        "current_time = now.strftime(\"%H:%M:%S\")\n",
        "newpath = join(PROJECT_PATH, 'pytorch-LiLaNet')\n",
        "%cd {newpath}\n",
        "!git add .\n",
        "!git commit -m current_time\n",
        "!git push origin master"
      ],
      "execution_count": 5,
      "outputs": [
        {
          "output_type": "stream",
          "text": [
            "/content/gdrive/My Drive/Colab Notebooks/pytorch-LiLaNet\n",
            "[master b425078] current_time\n",
            " 2 files changed, 2 insertions(+), 2 deletions(-)\n",
            " rewrite notebook.ipynb (99%)\n",
            "fatal: could not read Password for 'https://f3d1c0a4bf803fecbcafd89aed5d585660fa1af4@github.com': No such device or address\n"
          ],
          "name": "stdout"
        }
      ]
    },
    {
      "cell_type": "markdown",
      "metadata": {
        "id": "GnBUpQHKD0bS",
        "colab_type": "text"
      },
      "source": [
        "#Run\n"
      ]
    },
    {
      "cell_type": "code",
      "metadata": {
        "id": "_hTIs74QDyaN",
        "colab_type": "code",
        "colab": {
          "base_uri": "https://localhost:8080/",
          "height": 350
        },
        "outputId": "c356ec14-cc5c-4784-fe45-33240c381692"
      },
      "source": [
        "!python /content/gdrive/'My Drive'/'Colab Notebooks'/pytorch-LiLaNet/train_kitti.py --dataset-dir '/content/gdrive/My Drive/Colab Notebooks/pytorch-LiLaNet/data/kitti'"
      ],
      "execution_count": 4,
      "outputs": [
        {
          "output_type": "stream",
          "text": [
            "Traceback (most recent call last):\n",
            "  File \"/content/gdrive/My Drive/Colab Notebooks/pytorch-LiLaNet/train_kitti.py\", line 228, in <module>\n",
            "    run(parser.parse_args())\n",
            "  File \"/content/gdrive/My Drive/Colab Notebooks/pytorch-LiLaNet/train_kitti.py\", line 59, in run\n",
            "    model = model.to(device)\n",
            "  File \"/usr/local/lib/python3.6/dist-packages/torch/nn/modules/module.py\", line 425, in to\n",
            "    return self._apply(convert)\n",
            "  File \"/usr/local/lib/python3.6/dist-packages/torch/nn/modules/module.py\", line 201, in _apply\n",
            "    module._apply(fn)\n",
            "  File \"/usr/local/lib/python3.6/dist-packages/torch/nn/modules/module.py\", line 201, in _apply\n",
            "    module._apply(fn)\n",
            "  File \"/usr/local/lib/python3.6/dist-packages/torch/nn/modules/module.py\", line 201, in _apply\n",
            "    module._apply(fn)\n",
            "  File \"/usr/local/lib/python3.6/dist-packages/torch/nn/modules/module.py\", line 223, in _apply\n",
            "    param_applied = fn(param)\n",
            "  File \"/usr/local/lib/python3.6/dist-packages/torch/nn/modules/module.py\", line 423, in convert\n",
            "    return t.to(device, dtype if t.is_floating_point() else None, non_blocking)\n",
            "KeyboardInterrupt\n"
          ],
          "name": "stdout"
        }
      ]
    }
  ]
}